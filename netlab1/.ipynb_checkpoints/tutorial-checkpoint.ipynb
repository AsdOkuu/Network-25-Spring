{
 "cells": [
  {
   "cell_type": "markdown",
   "id": "9f9cda4f-5f34-4a52-9e10-a5e55bcde0b7",
   "metadata": {},
   "source": [
    "# scapy安装简介"
   ]
  },
  {
   "cell_type": "markdown",
   "id": "d5e235de-c497-4a75-bd8b-33a7ca093a02",
   "metadata": {
    "tags": []
   },
   "source": [
    "# scapy案例"
   ]
  },
  {
   "cell_type": "markdown",
   "id": "17f26d6d-19a7-4861-8138-96ac3064cfab",
   "metadata": {},
   "source": [
    "准备环境"
   ]
  },
  {
   "cell_type": "code",
   "execution_count": 1,
   "id": "c7219f8d-7998-4ea6-a122-f4e682c098b5",
   "metadata": {},
   "outputs": [],
   "source": [
    "from scapy.all import *"
   ]
  },
  {
   "cell_type": "markdown",
   "id": "559ecefd-2ea2-44a3-b5c0-ced33795f229",
   "metadata": {
    "tags": []
   },
   "source": [
    "## 嗅探报文"
   ]
  },
  {
   "cell_type": "code",
   "execution_count": 2,
   "id": "7c5c0bb2-bfde-4172-9a00-81f0b460b771",
   "metadata": {},
   "outputs": [
    {
     "name": "stdout",
     "output_type": "stream",
     "text": [
      "15\n"
     ]
    }
   ],
   "source": [
    "packets = sniff(timeout=5)  # 5秒内在\"外一个终端窗口\"命令行运行 wget http://baidu.com\n",
    "print(len(packets))"
   ]
  },
  {
   "cell_type": "markdown",
   "id": "6f62613f-4fe6-468f-a079-14f3235f5433",
   "metadata": {
    "tags": []
   },
   "source": [
    "## 存储报文至文件"
   ]
  },
  {
   "cell_type": "code",
   "execution_count": 3,
   "id": "ecb51da0-70aa-4181-8e2e-2104773a3963",
   "metadata": {},
   "outputs": [],
   "source": [
    "wrpcap(\"tutorial.pcap\", packets)"
   ]
  },
  {
   "cell_type": "markdown",
   "id": "0c2a20c2-49ae-4fde-bb5e-0e4ae308480d",
   "metadata": {
    "tags": []
   },
   "source": [
    "## 从文件读取报文"
   ]
  },
  {
   "cell_type": "code",
   "execution_count": 4,
   "id": "15c919d8-2a06-47e1-a354-9450ab4f2032",
   "metadata": {},
   "outputs": [],
   "source": [
    "packets = rdpcap(\"tutorial.pcap\")"
   ]
  },
  {
   "cell_type": "markdown",
   "id": "1fc3881f-029c-4e2a-91fb-909579370224",
   "metadata": {
    "tags": []
   },
   "source": [
    "## 显示报文（自动解析结果）"
   ]
  },
  {
   "cell_type": "code",
   "execution_count": 5,
   "id": "6ac1c2da-32e1-49f3-b6b5-1e6558e9ddda",
   "metadata": {},
   "outputs": [
    {
     "name": "stdout",
     "output_type": "stream",
     "text": [
      "###[ Ethernet ]###\n",
      "  dst       = 08:00:27:ac:0a:b1\n",
      "  src       = 52:55:0a:00:02:02\n",
      "  type      = IPv4\n",
      "###[ IP ]###\n",
      "     version   = 4\n",
      "     ihl       = 5\n",
      "     tos       = 0x8\n",
      "     len       = 40\n",
      "     id        = 52471\n",
      "     flags     = \n",
      "     frag      = 0\n",
      "     ttl       = 64\n",
      "     proto     = tcp\n",
      "     chksum    = 0x381c\n",
      "     src       = 39.156.66.10\n",
      "     dst       = 10.0.2.15\n",
      "     \\options   \\\n",
      "###[ TCP ]###\n",
      "        sport     = http\n",
      "        dport     = 36320\n",
      "        seq       = 329600388\n",
      "        ack       = 3776571191\n",
      "        dataofs   = 5\n",
      "        reserved  = 0\n",
      "        flags     = FA\n",
      "        window    = 65535\n",
      "        chksum    = 0x8273\n",
      "        urgptr    = 0\n",
      "        options   = []\n",
      "###[ Padding ]###\n",
      "           load      = b'\\x00\\x00\\x00\\x00\\x00\\x00'\n",
      "\n",
      "###[ Ethernet ]###\n",
      "  dst       = 52:55:0a:00:02:02\n",
      "  src       = 08:00:27:ac:0a:b1\n",
      "  type      = IPv4\n",
      "###[ IP ]###\n",
      "     version   = 4\n",
      "     ihl       = 5\n",
      "     tos       = 0x0\n",
      "     len       = 40\n",
      "     id        = 0\n",
      "     flags     = DF\n",
      "     frag      = 0\n",
      "     ttl       = 64\n",
      "     proto     = tcp\n",
      "     chksum    = 0xc51b\n",
      "     src       = 10.0.2.15\n",
      "     dst       = 39.156.66.10\n",
      "     \\options   \\\n",
      "###[ TCP ]###\n",
      "        sport     = 36320\n",
      "        dport     = http\n",
      "        seq       = 3776571191\n",
      "        ack       = 329600389\n",
      "        dataofs   = 5\n",
      "        reserved  = 0\n",
      "        flags     = A\n",
      "        window    = 63854\n",
      "        chksum    = 0x8904\n",
      "        urgptr    = 0\n",
      "        options   = []\n",
      "\n"
     ]
    }
   ],
   "source": [
    "for pkt in packets[-2:]:\n",
    "    pkt.show()"
   ]
  },
  {
   "cell_type": "markdown",
   "id": "e2cdc812-3855-481a-aace-ff68d2074ecb",
   "metadata": {
    "tags": []
   },
   "source": [
    "## 查看报文类的成员"
   ]
  },
  {
   "cell_type": "code",
   "execution_count": 6,
   "id": "c84f2fc3-9e53-46b3-99a9-afb946d1ef68",
   "metadata": {},
   "outputs": [
    {
     "name": "stdout",
     "output_type": "stream",
     "text": [
      "Ether / IP / TCP 10.0.2.15:36320 > 39.156.66.10:http A\n"
     ]
    }
   ],
   "source": [
    "p1 = packets[-1]\n",
    "print(p1)"
   ]
  },
  {
   "cell_type": "markdown",
   "id": "8362fd36-3c60-4758-b9ec-88697f04f3ec",
   "metadata": {
    "tags": []
   },
   "source": [
    "## 逐层解析报文"
   ]
  },
  {
   "cell_type": "code",
   "execution_count": 7,
   "id": "fa935253-87ca-48c3-821d-e720f92132ff",
   "metadata": {},
   "outputs": [
    {
     "name": "stdout",
     "output_type": "stream",
     "text": [
      "2048\n"
     ]
    }
   ],
   "source": [
    "print(p1.type)"
   ]
  },
  {
   "cell_type": "markdown",
   "id": "a6068372-d7ff-4858-a2fa-bd2f8f898549",
   "metadata": {},
   "source": [
    "2048是0x800，因此是IP分组"
   ]
  },
  {
   "cell_type": "code",
   "execution_count": 8,
   "id": "db2f15b3-c928-49bc-b780-706ea57b8bd9",
   "metadata": {},
   "outputs": [
    {
     "name": "stdout",
     "output_type": "stream",
     "text": [
      "IP / TCP 10.0.2.15:36320 > 39.156.66.10:http A\n"
     ]
    }
   ],
   "source": [
    "p2 = p1.payload\n",
    "print(p2)"
   ]
  },
  {
   "cell_type": "code",
   "execution_count": 9,
   "id": "fea6c36c-8175-4344-9d1f-4e35821c8a3a",
   "metadata": {},
   "outputs": [
    {
     "name": "stdout",
     "output_type": "stream",
     "text": [
      "6\n"
     ]
    }
   ],
   "source": [
    "print(p2.proto)"
   ]
  },
  {
   "cell_type": "markdown",
   "id": "cc4386a4-1e72-47a6-9977-e99422ad440f",
   "metadata": {},
   "source": [
    "6表示TCP，17表示UDP"
   ]
  },
  {
   "cell_type": "code",
   "execution_count": 10,
   "id": "74f26977-2ec9-4520-b903-2121bc4f0bbb",
   "metadata": {},
   "outputs": [
    {
     "name": "stdout",
     "output_type": "stream",
     "text": [
      "TCP 10.0.2.15:36320 > 39.156.66.10:http A\n"
     ]
    }
   ],
   "source": [
    "p3=p2.payload\n",
    "print(p3)"
   ]
  },
  {
   "cell_type": "markdown",
   "id": "56440983-4e6a-4655-89c0-b7ae9e7ddcdc",
   "metadata": {
    "tags": []
   },
   "source": [
    "## 可视化报文"
   ]
  },
  {
   "cell_type": "markdown",
   "id": "bc714b38-e250-4af4-9d21-a41d8c6a7bc8",
   "metadata": {},
   "source": [
    "生成一个可视化的pdf文件。下面命令可能失败，缺少依赖包。如果运行失败，跳过本步。"
   ]
  },
  {
   "cell_type": "code",
   "execution_count": 11,
   "id": "220f37ac-41bb-460d-8b4b-587b32aa08c3",
   "metadata": {},
   "outputs": [
    {
     "name": "stdout",
     "output_type": "stream",
     "text": [
      "\n"
     ]
    }
   ],
   "source": [
    "p1.pdfdump('pkt.pdf')"
   ]
  },
  {
   "cell_type": "markdown",
   "id": "d3b231ee-f42f-4d5f-8e73-ddb800d81074",
   "metadata": {
    "tags": []
   },
   "source": [
    "## 其他解析报文的方法"
   ]
  },
  {
   "cell_type": "markdown",
   "id": "8c3d5559-7edc-496e-9005-12bbebf544d9",
   "metadata": {},
   "source": [
    "IP、TCP、UDP、Ether是scapy内部定义的协议类型"
   ]
  },
  {
   "cell_type": "code",
   "execution_count": 12,
   "id": "224a7479-105a-4630-947b-a6eaea445734",
   "metadata": {},
   "outputs": [
    {
     "name": "stdout",
     "output_type": "stream",
     "text": [
      "True\n",
      "True\n",
      "False\n",
      "True\n"
     ]
    }
   ],
   "source": [
    "print('IP' in p1)\n",
    "print('TCP' in p1)\n",
    "print('UDP' in p1)\n",
    "print('Ether' in p1)"
   ]
  },
  {
   "cell_type": "markdown",
   "id": "85211f71-1206-46fb-8f3b-66e3046f730c",
   "metadata": {},
   "source": [
    "使用haslayer方法"
   ]
  },
  {
   "cell_type": "code",
   "execution_count": 13,
   "id": "b09b963d-7d1f-4735-898b-34c53880155a",
   "metadata": {},
   "outputs": [
    {
     "name": "stdout",
     "output_type": "stream",
     "text": [
      "True\n",
      "True\n",
      "True\n",
      "0\n"
     ]
    }
   ],
   "source": [
    "print(p1.haslayer(Ether))\n",
    "print(p1.haslayer(IP))\n",
    "print(p1.haslayer(TCP))\n",
    "print(p1.haslayer(UDP))"
   ]
  },
  {
   "cell_type": "markdown",
   "id": "36382c7b-c254-4799-bf71-2149ef2c0779",
   "metadata": {
    "tags": []
   },
   "source": [
    "## 帮助：Python交互式界面查询API的方法"
   ]
  },
  {
   "cell_type": "markdown",
   "id": "21922e5a-dcd8-452d-953f-5ec95779eeaa",
   "metadata": {},
   "source": [
    "python中使用help显示一个类或者实例的所有方法和成员，以及接口定义和规范"
   ]
  },
  {
   "cell_type": "code",
   "execution_count": 14,
   "id": "401403b5-9a2f-4eb1-9726-3a3cb7aecfb3",
   "metadata": {},
   "outputs": [
    {
     "name": "stdout",
     "output_type": "stream",
     "text": [
      "Help on Ether in module scapy.layers.l2 object:\n",
      "\n",
      "class Ether(scapy.packet.Packet)\n",
      " |  Ether(_pkt, /, *, dst=None, src=None, type=36864)\n",
      " |  \n",
      " |  Method resolution order:\n",
      " |      Ether\n",
      " |      scapy.packet.Packet\n",
      " |      scapy.base_classes.BasePacket\n",
      " |      scapy.base_classes.Gen\n",
      " |      typing.Generic\n",
      " |      scapy.base_classes._CanvasDumpExtended\n",
      " |      builtins.object\n",
      " |  \n",
      " |  Methods defined here:\n",
      " |  \n",
      " |  answers(self, other)\n",
      " |      DEV: true if self is an answer from other\n",
      " |  \n",
      " |  hashret(self)\n",
      " |      DEV: returns a string that has the same value for a request\n",
      " |      and its answer.\n",
      " |  \n",
      " |  mysummary(self)\n",
      " |      DEV: can be overloaded to return a string that summarizes the layer.\n",
      " |      Only one mysummary() is used in a whole packet summary: the one of the upper layer,  # noqa: E501\n",
      " |      except if a mysummary() also returns (as a couple) a list of layers whose  # noqa: E501\n",
      " |      mysummary() must be called if they are present.\n",
      " |  \n",
      " |  ----------------------------------------------------------------------\n",
      " |  Class methods defined here:\n",
      " |  \n",
      " |  dispatch_hook(_pkt=None, *args, **kargs) from scapy.base_classes.Packet_metaclass\n",
      " |  \n",
      " |  ----------------------------------------------------------------------\n",
      " |  Data and other attributes defined here:\n",
      " |  \n",
      " |  __all_slots__ = {'_answered', '_defrag_pos', '_pkt', 'comment', 'defau...\n",
      " |  \n",
      " |  __annotations__ = {}\n",
      " |  \n",
      " |  __parameters__ = ()\n",
      " |  \n",
      " |  __signature__ = <Signature (_pkt, /, *, dst=None, src=None, type=36864...\n",
      " |  \n",
      " |  aliastypes = [<class 'scapy.layers.l2.Ether'>, <class 'scapy.packet.Pa...\n",
      " |  \n",
      " |  fields_desc = [<DestMACField (Ether).dst>, <SourceMACField (Ether).src...\n",
      " |  \n",
      " |  payload_guess = [({'type': 122}, <class 'scapy.layers.l2.LLC'>), ({'ty...\n",
      " |  \n",
      " |  ----------------------------------------------------------------------\n",
      " |  Methods inherited from scapy.packet.Packet:\n",
      " |  \n",
      " |  __bool__ = __nonzero__(self)\n",
      " |  \n",
      " |  __bytes__(self)\n",
      " |  \n",
      " |  __contains__(self, cls)\n",
      " |      \"cls in self\" returns true if self has a layer which is an\n",
      " |      instance of cls.\n",
      " |  \n",
      " |  __deepcopy__(self, memo)\n",
      " |      Used by copy.deepcopy\n",
      " |  \n",
      " |  __delattr__(self, attr)\n",
      " |      Implement delattr(self, name).\n",
      " |  \n",
      " |  __delitem__(self, cls)\n",
      " |  \n",
      " |  __dir__(self)\n",
      " |      Add fields to tab completion list.\n",
      " |  \n",
      " |  __div__(self, other)\n",
      " |  \n",
      " |  __eq__(self, other)\n",
      " |      Return self==value.\n",
      " |  \n",
      " |  __getattr__(self, attr)\n",
      " |  \n",
      " |  __getitem__(self, cls)\n",
      " |  \n",
      " |  __gt__(self, other)\n",
      " |      True if other is an answer from self (self ==> other).\n",
      " |  \n",
      " |  __init__(self, _pkt=b'', post_transform=None, _internal=0, _underlayer=None, _parent=None, stop_dissection_after=None, **fields)\n",
      " |      Initialize self.  See help(type(self)) for accurate signature.\n",
      " |  \n",
      " |  __iter__(self)\n",
      " |      Iterates through all sub-packets generated by this Packet.\n",
      " |  \n",
      " |  __len__(self)\n",
      " |  \n",
      " |  __lt__(self, other)\n",
      " |      True if self is an answer from other (other ==> self).\n",
      " |  \n",
      " |  __mul__(self, other)\n",
      " |  \n",
      " |  __ne__(self, other)\n",
      " |      Return self!=value.\n",
      " |  \n",
      " |  __nonzero__(self)\n",
      " |  \n",
      " |  __rdiv__(self, other)\n",
      " |  \n",
      " |  __reduce__(self)\n",
      " |      Used by pickling methods\n",
      " |  \n",
      " |  __repr__(self)\n",
      " |      Return repr(self).\n",
      " |  \n",
      " |  __rmul__(self, other)\n",
      " |  \n",
      " |  __rtruediv__ = __rdiv__(self, other)\n",
      " |  \n",
      " |  __setattr__(self, attr, val)\n",
      " |      Implement setattr(self, name, value).\n",
      " |  \n",
      " |  __setitem__(self, cls, val)\n",
      " |  \n",
      " |  __setstate__(self, state)\n",
      " |      Rebuild state using pickable methods\n",
      " |  \n",
      " |  __str__(self)\n",
      " |      Return str(self).\n",
      " |  \n",
      " |  __truediv__ = __div__(self, other)\n",
      " |  \n",
      " |  add_parent(self, parent)\n",
      " |      Set packet parent.\n",
      " |      When packet is an element in PacketListField, parent field would\n",
      " |      point to the list owner packet.\n",
      " |  \n",
      " |  add_payload(self, payload)\n",
      " |  \n",
      " |  add_underlayer(self, underlayer)\n",
      " |  \n",
      " |  build(self)\n",
      " |      Create the current layer\n",
      " |      \n",
      " |      :return: string of the packet with the payload\n",
      " |  \n",
      " |  build_done(self, p)\n",
      " |  \n",
      " |  build_padding(self)\n",
      " |  \n",
      " |  build_ps(self, internal=0)\n",
      " |  \n",
      " |  canvas_dump(self, layer_shift=0, rebuild=1)\n",
      " |  \n",
      " |  clear_cache(self)\n",
      " |      Clear the raw packet cache for the field and all its subfields\n",
      " |  \n",
      " |  clone_with(self, payload=None, **kargs)\n",
      " |  \n",
      " |  command(self)\n",
      " |      Returns a string representing the command you have to type to\n",
      " |      obtain the same packet\n",
      " |  \n",
      " |  copy(self) -> <Fake typing.Self>\n",
      " |      Returns a deep copy of the instance.\n",
      " |  \n",
      " |  copy_field_value(self, fieldname, value)\n",
      " |  \n",
      " |  copy_fields_dict(self, fields)\n",
      " |  \n",
      " |  decode_payload_as(self, cls)\n",
      " |      Reassembles the payload and decode it using another packet class\n",
      " |  \n",
      " |  default_payload_class(self, payload)\n",
      " |      DEV: Returns the default payload class if nothing has been found by the\n",
      " |      guess_payload_class() method.\n",
      " |      \n",
      " |      :param str payload: the layer's payload\n",
      " |      :return: the default payload class define inside the configuration file\n",
      " |  \n",
      " |  delfieldval(self, attr)\n",
      " |  \n",
      " |  display(self, *args, **kargs)\n",
      " |      Deprecated. Use show() method.\n",
      " |  \n",
      " |  dissect(self, s)\n",
      " |  \n",
      " |  dissection_done(self, pkt)\n",
      " |      DEV: will be called after a dissection is completed\n",
      " |  \n",
      " |  do_build(self)\n",
      " |      Create the default version of the layer\n",
      " |      \n",
      " |      :return: a string of the packet with the payload\n",
      " |  \n",
      " |  do_build_payload(self)\n",
      " |      Create the default version of the payload layer\n",
      " |      \n",
      " |      :return: a string of payload layer\n",
      " |  \n",
      " |  do_build_ps(self)\n",
      " |  \n",
      " |  do_dissect(self, s)\n",
      " |  \n",
      " |  do_dissect_payload(self, s)\n",
      " |      Perform the dissection of the layer's payload\n",
      " |      \n",
      " |      :param str s: the raw layer\n",
      " |  \n",
      " |  do_init_cached_fields(self, for_dissect_only=False)\n",
      " |      Initialize each fields of the fields_desc dict, or use the cached\n",
      " |      fields information\n",
      " |  \n",
      " |  do_init_fields(self, flist)\n",
      " |      Initialize each fields of the fields_desc dict\n",
      " |  \n",
      " |  extract_padding(self, s)\n",
      " |      DEV: to be overloaded to extract current layer's padding.\n",
      " |      \n",
      " |      :param str s: the current layer\n",
      " |      :return: a couple of strings (actual layer, padding)\n",
      " |  \n",
      " |  firstlayer(self)\n",
      " |  \n",
      " |  fragment(self, *args, **kargs)\n",
      " |  \n",
      " |  get_field(self, fld)\n",
      " |      DEV: returns the field instance from the name of the field\n",
      " |  \n",
      " |  getfield_and_val(self, attr)\n",
      " |  \n",
      " |  getfieldval(self, attr)\n",
      " |  \n",
      " |  getlayer(self, cls, nb=1, _track=None, _subclass=None, **flt)\n",
      " |      Return the nb^th layer that is an instance of cls, matching flt\n",
      " |      values.\n",
      " |  \n",
      " |  guess_payload_class(self, payload)\n",
      " |      DEV: Guesses the next payload class from layer bonds.\n",
      " |      Can be overloaded to use a different mechanism.\n",
      " |      \n",
      " |      :param str payload: the layer's payload\n",
      " |      :return: the payload class\n",
      " |  \n",
      " |  haslayer(self, cls, _subclass=None)\n",
      " |      true if self has a layer that is an instance of cls.\n",
      " |      Superseded by \"cls in self\" syntax.\n",
      " |  \n",
      " |  hide_defaults(self)\n",
      " |      Removes fields' values that are the same as default values.\n",
      " |  \n",
      " |  init_fields(self, for_dissect_only=False)\n",
      " |      Initialize each fields of the fields_desc dict\n",
      " |  \n",
      " |  iterpayloads(self)\n",
      " |      Used to iter through the payloads of a Packet.\n",
      " |      Useful for DNS or 802.11 for instance.\n",
      " |  \n",
      " |  json(self)\n",
      " |      Returns a JSON representing the packet.\n",
      " |      \n",
      " |      Please note that this cannot be used for bijective usage: data loss WILL occur,\n",
      " |      so it will not make sense to try to rebuild the packet from the output.\n",
      " |      This must only be used for a grepping/displaying purpose.\n",
      " |  \n",
      " |  lastlayer(self, layer=None)\n",
      " |      Returns the uppest layer of the packet\n",
      " |  \n",
      " |  layers(self)\n",
      " |      returns a list of layer classes (including subclasses) in this packet\n",
      " |  \n",
      " |  post_build(self, pkt, pay)\n",
      " |      DEV: called right after the current layer is build.\n",
      " |      \n",
      " |      :param str pkt: the current packet (build by self_build function)\n",
      " |      :param str pay: the packet payload (build by do_build_payload function)\n",
      " |      :return: a string of the packet with the payload\n",
      " |  \n",
      " |  post_dissect(self, s)\n",
      " |      DEV: is called right after the current layer has been dissected\n",
      " |  \n",
      " |  post_dissection(self, pkt)\n",
      " |      DEV: is called after the dissection of the whole packet\n",
      " |  \n",
      " |  pre_dissect(self, s)\n",
      " |      DEV: is called right before the current layer is dissected\n",
      " |  \n",
      " |  prepare_cached_fields(self, flist)\n",
      " |      Prepare the cached fields of the fields_desc dict\n",
      " |  \n",
      " |  remove_parent(self, other)\n",
      " |      Remove packet parent.\n",
      " |      When packet is an element in PacketListField, parent field would\n",
      " |      point to the list owner packet.\n",
      " |  \n",
      " |  remove_payload(self)\n",
      " |  \n",
      " |  remove_underlayer(self, other)\n",
      " |  \n",
      " |  route(self)\n",
      " |  \n",
      " |  self_build(self)\n",
      " |      Create the default layer regarding fields_desc dict\n",
      " |      \n",
      " |      :param field_pos_list:\n",
      " |  \n",
      " |  setfieldval(self, attr, val)\n",
      " |  \n",
      " |  show(self, dump=False, indent=3, lvl='', label_lvl='')\n",
      " |      Prints or returns (when \"dump\" is true) a hierarchical view of the\n",
      " |      packet.\n",
      " |      \n",
      " |      :param dump: determine if it prints or returns the string value\n",
      " |      :param int indent: the size of indentation for each layer\n",
      " |      :param str lvl: additional information about the layer lvl\n",
      " |      :param str label_lvl: additional information about the layer fields\n",
      " |      :return: return a hierarchical view if dump, else print it\n",
      " |  \n",
      " |  show2(self, dump=False, indent=3, lvl='', label_lvl='')\n",
      " |      Prints or returns (when \"dump\" is true) a hierarchical view of an\n",
      " |      assembled version of the packet, so that automatic fields are\n",
      " |      calculated (checksums, etc.)\n",
      " |      \n",
      " |      :param dump: determine if it prints or returns the string value\n",
      " |      :param int indent: the size of indentation for each layer\n",
      " |      :param str lvl: additional information about the layer lvl\n",
      " |      :param str label_lvl: additional information about the layer fields\n",
      " |      :return: return a hierarchical view if dump, else print it\n",
      " |  \n",
      " |  sprintf(self, fmt, relax=1)\n",
      " |      sprintf(format, [relax=1]) -> str\n",
      " |      \n",
      " |      Where format is a string that can include directives. A directive\n",
      " |      begins and ends by % and has the following format:\n",
      " |      ``%[fmt[r],][cls[:nb].]field%``\n",
      " |      \n",
      " |      :param fmt: is a classic printf directive, \"r\" can be appended for raw\n",
      " |        substitution:\n",
      " |        (ex: IP.flags=0x18 instead of SA), nb is the number of the layer\n",
      " |        (ex: for IP/IP packets, IP:2.src is the src of the upper IP layer).\n",
      " |        Special case : \"%.time%\" is the creation time.\n",
      " |        Ex::\n",
      " |      \n",
      " |          p.sprintf(\n",
      " |            \"%.time% %-15s,IP.src% -> %-15s,IP.dst% %IP.chksum% \"\n",
      " |            \"%03xr,IP.proto% %r,TCP.flags%\"\n",
      " |          )\n",
      " |      \n",
      " |        Moreover, the format string can include conditional statements. A\n",
      " |        conditional statement looks like : {layer:string} where layer is a\n",
      " |        layer name, and string is the string to insert in place of the\n",
      " |        condition if it is true, i.e. if layer is present. If layer is\n",
      " |        preceded by a \"!\", the result is inverted. Conditions can be\n",
      " |        imbricated. A valid statement can be::\n",
      " |      \n",
      " |          p.sprintf(\"This is a{TCP: TCP}{UDP: UDP}{ICMP:n ICMP} packet\")\n",
      " |          p.sprintf(\"{IP:%IP.dst% {ICMP:%ICMP.type%}{TCP:%TCP.dport%}}\")\n",
      " |      \n",
      " |        A side effect is that, to obtain \"{\" and \"}\" characters, you must use\n",
      " |        \"%(\" and \"%)\".\n",
      " |  \n",
      " |  summary(self, intern=0)\n",
      " |      Prints a one line summary of a packet.\n",
      " |  \n",
      " |  ----------------------------------------------------------------------\n",
      " |  Class methods inherited from scapy.packet.Packet:\n",
      " |  \n",
      " |  from_hexcap() from scapy.base_classes.Packet_metaclass\n",
      " |  \n",
      " |  lower_bonds() from scapy.base_classes.Packet_metaclass\n",
      " |  \n",
      " |  upper_bonds() from scapy.base_classes.Packet_metaclass\n",
      " |  \n",
      " |  ----------------------------------------------------------------------\n",
      " |  Data descriptors inherited from scapy.packet.Packet:\n",
      " |  \n",
      " |  __dict__\n",
      " |      dictionary for instance variables (if defined)\n",
      " |  \n",
      " |  __weakref__\n",
      " |      list of weak references to the object (if defined)\n",
      " |  \n",
      " |  comment\n",
      " |  \n",
      " |  default_fields\n",
      " |  \n",
      " |  direction\n",
      " |  \n",
      " |  explicit\n",
      " |  \n",
      " |  fields\n",
      " |  \n",
      " |  fieldtype\n",
      " |  \n",
      " |  name\n",
      " |  \n",
      " |  original\n",
      " |  \n",
      " |  overload_fields\n",
      " |  \n",
      " |  overloaded_fields\n",
      " |  \n",
      " |  packetfields\n",
      " |  \n",
      " |  parent\n",
      " |  \n",
      " |  payload\n",
      " |  \n",
      " |  post_transforms\n",
      " |  \n",
      " |  process_information\n",
      " |  \n",
      " |  raw_packet_cache\n",
      " |  \n",
      " |  raw_packet_cache_fields\n",
      " |  \n",
      " |  sent_time\n",
      " |  \n",
      " |  sniffed_on\n",
      " |  \n",
      " |  stop_dissection_after\n",
      " |  \n",
      " |  time\n",
      " |  \n",
      " |  underlayer\n",
      " |  \n",
      " |  wirelen\n",
      " |  \n",
      " |  ----------------------------------------------------------------------\n",
      " |  Data and other attributes inherited from scapy.packet.Packet:\n",
      " |  \n",
      " |  __hash__ = None\n",
      " |  \n",
      " |  class_default_fields = {<class 'scapy.arch.linux.rtnetlink.rtmsghdr'>:...\n",
      " |  \n",
      " |  class_default_fields_ref = {<class 'scapy.arch.linux.rtnetlink.rtmsghd...\n",
      " |  \n",
      " |  class_dont_cache = {<class 'scapy.layers.ntlm.AV_PAIR'>: True, <class ...\n",
      " |  \n",
      " |  class_fieldtype = {<class 'scapy.arch.linux.rtnetlink.rtmsghdr'>: {'nl...\n",
      " |  \n",
      " |  class_packetfields = {<class 'scapy.arch.linux.rtnetlink.rtmsghdr'>: [...\n",
      " |  \n",
      " |  deprecated_fields = {}\n",
      " |  \n",
      " |  match_subclass = False\n",
      " |  \n",
      " |  show_indent = 1\n",
      " |  \n",
      " |  show_summary = True\n",
      " |  \n",
      " |  ----------------------------------------------------------------------\n",
      " |  Data and other attributes inherited from scapy.base_classes.BasePacket:\n",
      " |  \n",
      " |  __orig_bases__ = (scapy.base_classes.Gen[ForwardRef('Packet')],)\n",
      " |  \n",
      " |  ----------------------------------------------------------------------\n",
      " |  Methods inherited from scapy.base_classes.Gen:\n",
      " |  \n",
      " |  __iterlen__(self)\n",
      " |  \n",
      " |  ----------------------------------------------------------------------\n",
      " |  Class methods inherited from typing.Generic:\n",
      " |  \n",
      " |  __class_getitem__(params) from scapy.base_classes.Packet_metaclass\n",
      " |  \n",
      " |  __init_subclass__(*args, **kwargs) from scapy.base_classes.Packet_metaclass\n",
      " |      This method is called when a class is subclassed.\n",
      " |      \n",
      " |      The default implementation does nothing. It may be\n",
      " |      overridden to extend subclasses.\n",
      " |  \n",
      " |  ----------------------------------------------------------------------\n",
      " |  Methods inherited from scapy.base_classes._CanvasDumpExtended:\n",
      " |  \n",
      " |  pdfdump(self, filename=None, **kargs)\n",
      " |      pdfdump(filename=None, layer_shift=0, rebuild=1)\n",
      " |      \n",
      " |      Creates a PDF file describing a packet. If filename is not provided a\n",
      " |      temporary file is created and xpdf is called.\n",
      " |      \n",
      " |      :param filename: the file's filename\n",
      " |  \n",
      " |  psdump(self, filename=None, **kargs)\n",
      " |      psdump(filename=None, layer_shift=0, rebuild=1)\n",
      " |      \n",
      " |      Creates an EPS file describing a packet. If filename is not provided a\n",
      " |      temporary file is created and gs is called.\n",
      " |      \n",
      " |      :param filename: the file's filename\n",
      " |  \n",
      " |  svgdump(self, filename=None, **kargs)\n",
      " |      svgdump(filename=None, layer_shift=0, rebuild=1)\n",
      " |      \n",
      " |      Creates an SVG file describing a packet. If filename is not provided a\n",
      " |      temporary file is created and gs is called.\n",
      " |      \n",
      " |      :param filename: the file's filename\n",
      "\n"
     ]
    }
   ],
   "source": [
    "help(p1)"
   ]
  },
  {
   "cell_type": "markdown",
   "id": "945c4aba-c261-4b22-af7b-1196b944310c",
   "metadata": {},
   "source": [
    "继续查看fields"
   ]
  },
  {
   "cell_type": "code",
   "execution_count": 15,
   "id": "0b403524-e7bc-439b-ae3a-83ba209e1ea6",
   "metadata": {},
   "outputs": [
    {
     "data": {
      "text/plain": [
       "{'dst': '52:55:0a:00:02:02', 'src': '08:00:27:ac:0a:b1', 'type': 2048}"
      ]
     },
     "execution_count": 15,
     "metadata": {},
     "output_type": "execute_result"
    }
   ],
   "source": [
    "p1.fields"
   ]
  },
  {
   "cell_type": "markdown",
   "id": "60bc6e45-9600-4fc6-a845-eae15d6eeaae",
   "metadata": {},
   "source": [
    "使用dir列举一个类或者实例的所有方法和成员"
   ]
  },
  {
   "cell_type": "code",
   "execution_count": 16,
   "id": "26a4083c-703b-4486-99e4-1bff17593d64",
   "metadata": {},
   "outputs": [
    {
     "data": {
      "text/plain": [
       "['_PickleType',\n",
       " '__all_slots__',\n",
       " '__annotations__',\n",
       " '__bool__',\n",
       " '__bytes__',\n",
       " '__class__',\n",
       " '__class_getitem__',\n",
       " '__contains__',\n",
       " '__deepcopy__',\n",
       " '__delattr__',\n",
       " '__delitem__',\n",
       " '__dict__',\n",
       " '__dir__',\n",
       " '__div__',\n",
       " '__doc__',\n",
       " '__eq__',\n",
       " '__format__',\n",
       " '__ge__',\n",
       " '__getattr__',\n",
       " '__getattribute__',\n",
       " '__getitem__',\n",
       " '__gt__',\n",
       " '__hash__',\n",
       " '__init__',\n",
       " '__init_subclass__',\n",
       " '__iter__',\n",
       " '__iterlen__',\n",
       " '__le__',\n",
       " '__len__',\n",
       " '__lt__',\n",
       " '__module__',\n",
       " '__mul__',\n",
       " '__ne__',\n",
       " '__new__',\n",
       " '__nonzero__',\n",
       " '__orig_bases__',\n",
       " '__parameters__',\n",
       " '__rdiv__',\n",
       " '__reduce__',\n",
       " '__reduce_ex__',\n",
       " '__repr__',\n",
       " '__rmul__',\n",
       " '__rtruediv__',\n",
       " '__setattr__',\n",
       " '__setitem__',\n",
       " '__setstate__',\n",
       " '__signature__',\n",
       " '__sizeof__',\n",
       " '__slots__',\n",
       " '__str__',\n",
       " '__subclasshook__',\n",
       " '__truediv__',\n",
       " '__weakref__',\n",
       " '_answered',\n",
       " '_command',\n",
       " '_defrag_pos',\n",
       " '_do_summary',\n",
       " '_is_protocol',\n",
       " '_name',\n",
       " '_overload_fields',\n",
       " '_pkt',\n",
       " '_raw_packet_cache_field_value',\n",
       " '_resolve_alias',\n",
       " '_show_or_dump',\n",
       " '_superdir',\n",
       " 'add_parent',\n",
       " 'add_payload',\n",
       " 'add_underlayer',\n",
       " 'aliastypes',\n",
       " 'answers',\n",
       " 'build',\n",
       " 'build_done',\n",
       " 'build_padding',\n",
       " 'build_ps',\n",
       " 'canvas_dump',\n",
       " 'class_default_fields',\n",
       " 'class_default_fields_ref',\n",
       " 'class_dont_cache',\n",
       " 'class_fieldtype',\n",
       " 'class_packetfields',\n",
       " 'clear_cache',\n",
       " 'clone_with',\n",
       " 'command',\n",
       " 'comment',\n",
       " 'copy',\n",
       " 'copy_field_value',\n",
       " 'copy_fields_dict',\n",
       " 'decode_payload_as',\n",
       " 'default_fields',\n",
       " 'default_payload_class',\n",
       " 'delfieldval',\n",
       " 'deprecated_fields',\n",
       " 'direction',\n",
       " 'dispatch_hook',\n",
       " 'display',\n",
       " 'dissect',\n",
       " 'dissection_done',\n",
       " 'do_build',\n",
       " 'do_build_payload',\n",
       " 'do_build_ps',\n",
       " 'do_dissect',\n",
       " 'do_dissect_payload',\n",
       " 'do_init_cached_fields',\n",
       " 'do_init_fields',\n",
       " 'dst',\n",
       " 'explicit',\n",
       " 'extract_padding',\n",
       " 'fields',\n",
       " 'fields_desc',\n",
       " 'fieldtype',\n",
       " 'firstlayer',\n",
       " 'fragment',\n",
       " 'from_hexcap',\n",
       " 'get_field',\n",
       " 'getfield_and_val',\n",
       " 'getfieldval',\n",
       " 'getlayer',\n",
       " 'guess_payload_class',\n",
       " 'hashret',\n",
       " 'haslayer',\n",
       " 'hide_defaults',\n",
       " 'init_fields',\n",
       " 'iterpayloads',\n",
       " 'json',\n",
       " 'lastlayer',\n",
       " 'layers',\n",
       " 'lower_bonds',\n",
       " 'match_subclass',\n",
       " 'mysummary',\n",
       " 'name',\n",
       " 'original',\n",
       " 'overload_fields',\n",
       " 'overloaded_fields',\n",
       " 'packetfields',\n",
       " 'parent',\n",
       " 'payload',\n",
       " 'payload_guess',\n",
       " 'pdfdump',\n",
       " 'post_build',\n",
       " 'post_dissect',\n",
       " 'post_dissection',\n",
       " 'post_transforms',\n",
       " 'pre_dissect',\n",
       " 'prepare_cached_fields',\n",
       " 'process_information',\n",
       " 'psdump',\n",
       " 'raw_packet_cache',\n",
       " 'raw_packet_cache_fields',\n",
       " 'remove_parent',\n",
       " 'remove_payload',\n",
       " 'remove_underlayer',\n",
       " 'route',\n",
       " 'self_build',\n",
       " 'sent_time',\n",
       " 'setfieldval',\n",
       " 'show',\n",
       " 'show2',\n",
       " 'show_indent',\n",
       " 'show_summary',\n",
       " 'sniffed_on',\n",
       " 'sprintf',\n",
       " 'src',\n",
       " 'stop_dissection_after',\n",
       " 'summary',\n",
       " 'svgdump',\n",
       " 'time',\n",
       " 'type',\n",
       " 'underlayer',\n",
       " 'upper_bonds',\n",
       " 'wirelen']"
      ]
     },
     "execution_count": 16,
     "metadata": {},
     "output_type": "execute_result"
    }
   ],
   "source": [
    "dir(p1)"
   ]
  },
  {
   "cell_type": "code",
   "execution_count": 17,
   "id": "0165f566-2b3a-4e60-b600-c41e57b4bbbe",
   "metadata": {},
   "outputs": [
    {
     "name": "stdout",
     "output_type": "stream",
     "text": [
      "1739722310.085370\n"
     ]
    }
   ],
   "source": [
    "print(p1.time)"
   ]
  },
  {
   "cell_type": "code",
   "execution_count": 18,
   "id": "ac0b9ffb-16dc-4456-98e8-f8ea45761780",
   "metadata": {},
   "outputs": [
    {
     "name": "stdout",
     "output_type": "stream",
     "text": [
      "{'version': 4, 'ihl': 5, 'tos': 0, 'len': 40, 'id': 0, 'flags': <Flag 2 (DF)>, 'frag': 0, 'ttl': 64, 'proto': 6, 'chksum': 50459, 'src': '10.0.2.15', 'dst': '39.156.66.10', 'options': []}\n"
     ]
    }
   ],
   "source": [
    "print(p1.payload.fields)"
   ]
  },
  {
   "cell_type": "code",
   "execution_count": null,
   "id": "943e1f70-a8db-4185-9387-79d3cd680f8e",
   "metadata": {},
   "outputs": [],
   "source": []
  }
 ],
 "metadata": {
  "kernelspec": {
   "display_name": "Python 3 (ipykernel)",
   "language": "python",
   "name": "python3"
  },
  "language_info": {
   "codemirror_mode": {
    "name": "ipython",
    "version": 3
   },
   "file_extension": ".py",
   "mimetype": "text/x-python",
   "name": "python",
   "nbconvert_exporter": "python",
   "pygments_lexer": "ipython3",
   "version": "3.10.12"
  }
 },
 "nbformat": 4,
 "nbformat_minor": 5
}
